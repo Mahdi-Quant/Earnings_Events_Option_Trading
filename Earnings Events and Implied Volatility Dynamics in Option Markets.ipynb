{
 "cells": [
  {
   "cell_type": "markdown",
   "id": "42dc408c",
   "metadata": {},
   "source": [
    "# Earnings Events and Implied Volatility Dynamics in Option Markets\n",
    "\n",
    "## 1. Introduction & Motivation\n",
    "\n",
    "Implied volatility (IV) represents the market’s expectation of future price fluctuations, derived from the prices of options.  \n",
    "It is a forward-looking metric, unlike realized volatility, which measures past price movements.  \n",
    "Around corporate earnings announcements, IV tends to rise as uncertainty about future financial results increases.  \n",
    "After the event, this uncertainty is resolved, often leading to a **“volatility crush”** — a sharp decline in IV.\n",
    "\n",
    "Understanding this behavior is crucial for traders and researchers, as it provides insights into:\n",
    "- How markets price uncertainty,\n",
    "- How information is incorporated into options,\n",
    "- And how event-driven volatility can be exploited or hedged.\n",
    "\n",
    "In this notebook, we will:\n",
    "- Compare **implied volatility** and **realized volatility** across multiple earnings cycles,  \n",
    "- Examine how IV term structure behaves before and after earnings events,  \n",
    "- Visualize these dynamics for several major companies.\n",
    "\n",
    "**Goal**:\n",
    "Explain why implied volatility (IV) spikes around earnings and how that can be quantified and visualized.\n",
    "\n",
    "Outline:\n",
    "\n",
    "* What is Implied Volatility (IV)?\n",
    "→ Market’s expectation of future volatility, derived from option prices.\n",
    "\n",
    "* Why it spikes before earnings?\n",
    "→ Uncertainty about future earnings announcements leads traders to price in larger expected moves.\n",
    "\n",
    "* How it decays post-earnings?\n",
    "→ “Volatility crush” as uncertainty resolves.\n",
    "\n",
    "**Our objective**: build a small research-based model that identifies these conditions before they occur.\n",
    "## 2. Literature Review & References\n",
    "\n",
    "Relevant academic works and summarization of their findings:\n",
    "| Study                                                  | Key Insight                                                                                                                    |\n",
    "| ------------------------------------------------------ | ------------------------------------------------------------------------------------------------------------------------------ |\n",
    "| Doran & Krieger (2010) — *Journal of Derivatives*      | IV increases sharply before earnings announcements, especially in short-dated options, and collapses afterward.                |\n",
    "| Pan & Poteshman (2006) — *Review of Financial Studies* | Option volumes and IV changes contain information about future stock price movements.                                          |\n",
    "| Xing, Zhang & Zhao (2010) — *JFQA*                     | The shape of the volatility smirk before earnings predicts cross-sectional returns.                                            |\n",
    "| Dennis, Mayhew & Stivers (2006)                        | Show that pre-event volatility is not fully explained by historical volatility alone — indicating strong risk-premium effects. |\n",
    "\n"
   ]
  },
  {
   "cell_type": "markdown",
   "id": "b37f3409",
   "metadata": {},
   "source": [
    "## 3. Example IV spike and crush data analysis and visualization\n",
    "\n",
    "This section visualizes the behavior of implied volatility (IV) and underlying stock prices during earnings events, highlighting the characteristic pre-earnings IV spike and post-earnings IV crush. These patterns provide crucial signals for options traders, guiding both long and short volatility strategies such as straddles and calendar spreads."
   ]
  },
  {
   "cell_type": "code",
   "execution_count": 6,
   "id": "52ec9e18",
   "metadata": {},
   "outputs": [
    {
     "name": "stderr",
     "output_type": "stream",
     "text": [
      "[*********************100%***********************]  1 of 1 completed\n",
      "[*********************100%***********************]  1 of 1 completed\n",
      "[*********************100%***********************]  1 of 1 completed\n",
      "[*********************100%***********************]  1 of 1 completed\n",
      "[*********************100%***********************]  1 of 1 completed"
     ]
    },
    {
     "name": "stdout",
     "output_type": "stream",
     "text": [
      "Data merged successfully.\n"
     ]
    },
    {
     "name": "stderr",
     "output_type": "stream",
     "text": [
      "\n"
     ]
    }
   ],
   "source": [
    "import pandas as pd\n",
    "import yfinance as yf\n",
    "import plotly.graph_objects as go\n",
    "\n",
    "# --------------------------------------------------\n",
    "# User-defined config\n",
    "# --------------------------------------------------\n",
    "csv_files = {\n",
    "    'AAPL': 'AAPL.csv',\n",
    "    'MSFT': 'MSFT.csv',\n",
    "    'AMZN': 'AMZN.csv',\n",
    "    'GOOGL': 'GOOG.csv',\n",
    "    'TSLA': 'TSLA.csv'\n",
    "}\n",
    "\n",
    "earnings_dates = {\n",
    "    'AAPL': ['2024-10-31'],\n",
    "    'MSFT': ['2024-10-30'],\n",
    "    'AMZN': ['2024-10-31'],\n",
    "    'GOOGL': ['2024-10-29'],\n",
    "    'TSLA': ['2024-10-23']\n",
    "}\n",
    "\n",
    "# --------------------------------------------------\n",
    "# Prepare merged data\n",
    "# --------------------------------------------------\n",
    "merged_data = {}\n",
    "\n",
    "for ticker, path in csv_files.items():\n",
    "    # Load option implied volatility data\n",
    "    df_iv = pd.read_csv(path)\n",
    "    df_iv['date'] = pd.to_datetime(df_iv['date'])\n",
    "    \n",
    "    # Calculate average implied vol per day (since multiple strikes)\n",
    "    daily_iv = df_iv.groupby('date', as_index=False)['impliedVolatility'].mean()\n",
    "    \n",
    "    # Get stock price data from yfinance (explicitly set auto_adjust)\n",
    "    start, end = df_iv['date'].min(), df_iv['date'].max()\n",
    "    stock_data = yf.download(ticker, start=start, end=end, auto_adjust=False)\n",
    "    \n",
    "    # Flatten column index if MultiIndex\n",
    "    if isinstance(stock_data.columns, pd.MultiIndex):\n",
    "        stock_data.columns = [col[0] if isinstance(col, tuple) else col for col in stock_data.columns]\n",
    "    \n",
    "    stock_data.reset_index(inplace=True)\n",
    "    stock_data = stock_data[['Date', 'Close']].rename(columns={'Date': 'date'})\n",
    "    \n",
    "    # Merge cleanly\n",
    "    merged = pd.merge(daily_iv, stock_data, on='date', how='inner')\n",
    "    merged_data[ticker] = merged\n",
    "\n",
    "print(\"Data merged successfully.\")\n"
   ]
  },
  {
   "cell_type": "code",
   "execution_count": 7,
   "id": "d118bde6",
   "metadata": {},
   "outputs": [
    {
     "data": {
      "application/vnd.plotly.v1+json": {
       "config": {
        "plotlyServerURL": "https://plot.ly"
       },
       "data": [
        {
         "line": {
          "color": "blue"
         },
         "mode": "lines",
         "name": "AAPL IV",
         "type": "scatter",
         "visible": true,
         "x": [
          "2024-10-01T00:00:00.000000000",
          "2024-10-02T00:00:00.000000000",
          "2024-10-03T00:00:00.000000000",
          "2024-10-04T00:00:00.000000000",
          "2024-10-07T00:00:00.000000000",
          "2024-10-08T00:00:00.000000000",
          "2024-10-09T00:00:00.000000000",
          "2024-10-10T00:00:00.000000000",
          "2024-10-11T00:00:00.000000000",
          "2024-10-14T00:00:00.000000000",
          "2024-10-15T00:00:00.000000000",
          "2024-10-16T00:00:00.000000000",
          "2024-10-17T00:00:00.000000000",
          "2024-10-18T00:00:00.000000000",
          "2024-10-21T00:00:00.000000000",
          "2024-10-22T00:00:00.000000000",
          "2024-10-23T00:00:00.000000000",
          "2024-10-24T00:00:00.000000000",
          "2024-10-25T00:00:00.000000000",
          "2024-10-28T00:00:00.000000000",
          "2024-10-29T00:00:00.000000000",
          "2024-10-30T00:00:00.000000000",
          "2024-10-31T00:00:00.000000000",
          "2024-11-01T00:00:00.000000000",
          "2024-11-04T00:00:00.000000000",
          "2024-11-05T00:00:00.000000000",
          "2024-11-06T00:00:00.000000000",
          "2024-11-07T00:00:00.000000000",
          "2024-11-08T00:00:00.000000000",
          "2024-11-11T00:00:00.000000000",
          "2024-11-13T00:00:00.000000000",
          "2024-11-14T00:00:00.000000000",
          "2024-11-15T00:00:00.000000000",
          "2024-11-18T00:00:00.000000000",
          "2024-11-19T00:00:00.000000000",
          "2024-11-20T00:00:00.000000000",
          "2024-11-21T00:00:00.000000000",
          "2024-11-22T00:00:00.000000000",
          "2024-11-25T00:00:00.000000000",
          "2024-11-26T00:00:00.000000000",
          "2024-11-27T00:00:00.000000000"
         ],
         "y": {
          "bdata": "UST1vTsG0z85xExkfLfSP765VS90+dI/Cw/t8ihZ0j+iSxBA0YLVP8c0p1QfZ9M/cBPCLEoo0j/Vty2MsY3TPxV/vyf0NtI/BO9/oGVQ1D9oLiARIQHUPyWwV5SKttM/GYwvFv780z8tyQT2pDTTP210PyzXx9Q/AlPzQidx0z/TU7xcK+fUPzMGkHaCG9U/6Giv8mxf1T9548zkNP7VP7dG3C6bRtQ/6WzsA64o1j+ffgocr17XP7OiOyEu1dM/hATIvNdg1D9WeA7P8/LRPwSBDIeGENE/8WeEQWkO0T+kNtjhEwzRPyuGXEfgQNM/h6dXyjLE0T9Elzko92fPP98TCZwtSNI/diFosoWv0T9K/c90if3QP42yA+q5ztA/yO0mFjSl0T8/f7p6ByPRP2x5NDcbetE/r/mMswCbzz/d0f9yLVrQPw==",
          "dtype": "f8"
         },
         "yaxis": "y"
        },
        {
         "line": {
          "color": "orange"
         },
         "mode": "lines",
         "name": "AAPL Price",
         "type": "scatter",
         "visible": true,
         "x": [
          "2024-10-01T00:00:00.000000000",
          "2024-10-02T00:00:00.000000000",
          "2024-10-03T00:00:00.000000000",
          "2024-10-04T00:00:00.000000000",
          "2024-10-07T00:00:00.000000000",
          "2024-10-08T00:00:00.000000000",
          "2024-10-09T00:00:00.000000000",
          "2024-10-10T00:00:00.000000000",
          "2024-10-11T00:00:00.000000000",
          "2024-10-14T00:00:00.000000000",
          "2024-10-15T00:00:00.000000000",
          "2024-10-16T00:00:00.000000000",
          "2024-10-17T00:00:00.000000000",
          "2024-10-18T00:00:00.000000000",
          "2024-10-21T00:00:00.000000000",
          "2024-10-22T00:00:00.000000000",
          "2024-10-23T00:00:00.000000000",
          "2024-10-24T00:00:00.000000000",
          "2024-10-25T00:00:00.000000000",
          "2024-10-28T00:00:00.000000000",
          "2024-10-29T00:00:00.000000000",
          "2024-10-30T00:00:00.000000000",
          "2024-10-31T00:00:00.000000000",
          "2024-11-01T00:00:00.000000000",
          "2024-11-04T00:00:00.000000000",
          "2024-11-05T00:00:00.000000000",
          "2024-11-06T00:00:00.000000000",
          "2024-11-07T00:00:00.000000000",
          "2024-11-08T00:00:00.000000000",
          "2024-11-11T00:00:00.000000000",
          "2024-11-13T00:00:00.000000000",
          "2024-11-14T00:00:00.000000000",
          "2024-11-15T00:00:00.000000000",
          "2024-11-18T00:00:00.000000000",
          "2024-11-19T00:00:00.000000000",
          "2024-11-20T00:00:00.000000000",
          "2024-11-21T00:00:00.000000000",
          "2024-11-22T00:00:00.000000000",
          "2024-11-25T00:00:00.000000000",
          "2024-11-26T00:00:00.000000000",
          "2024-11-27T00:00:00.000000000"
         ],
         "y": {
          "bdata": "AAAAYLhGbEAAAADA9VhsQAAAAKBwNWxAAAAAoJlZbEAAAACAFLZrQAAAAOCjOGxAAAAAoEexbEAAAACgR6FsQAAAAKCZcWxAAAAAoJnpbEAAAABAMzttQAAAAMD1+GxAAAAAwMwEbUAAAAAAAGBtQAAAACBcj21AAAAAIIV7bUAAAADgUdhsQAAAAIA90mxAAAAAwB7tbEAAAADAzCxtQAAAAKBwNW1AAAAAQDPDbEAAAADAHj1sQAAAAMAe3WtAAAAA4FHAa0AAAABgZu5rQAAAAEAK12tAAAAAIFxvbEAAAABguF5sQAAAACBcB2xAAAAAANcjbEAAAABACodsQAAAAAAAIGxAAAAA4KOAbEAAAADA9YhsQAAAAAAAoGxAAAAA4KOQbEAAAAAA17tsQAAAAADXG21AAAAAgOthbUAAAACAwl1tQA==",
          "dtype": "f8"
         },
         "yaxis": "y2"
        },
        {
         "line": {
          "color": "red",
          "dash": "dot"
         },
         "mode": "lines",
         "name": "AAPL Earnings",
         "showlegend": false,
         "type": "scatter",
         "visible": true,
         "x": [
          "2024-10-31T00:00:00",
          "2024-10-31T00:00:00"
         ],
         "y": [
          0.24536027397260274,
          0.36515405405405404
         ],
         "yaxis": "y"
        },
        {
         "line": {
          "color": "blue"
         },
         "mode": "lines",
         "name": "MSFT IV",
         "type": "scatter",
         "visible": false,
         "x": [
          "2024-10-01T00:00:00.000000000",
          "2024-10-02T00:00:00.000000000",
          "2024-10-03T00:00:00.000000000",
          "2024-10-04T00:00:00.000000000",
          "2024-10-07T00:00:00.000000000",
          "2024-10-08T00:00:00.000000000",
          "2024-10-09T00:00:00.000000000",
          "2024-10-10T00:00:00.000000000",
          "2024-10-11T00:00:00.000000000",
          "2024-10-14T00:00:00.000000000",
          "2024-10-15T00:00:00.000000000",
          "2024-10-16T00:00:00.000000000",
          "2024-10-17T00:00:00.000000000",
          "2024-10-18T00:00:00.000000000",
          "2024-10-21T00:00:00.000000000",
          "2024-10-22T00:00:00.000000000",
          "2024-10-23T00:00:00.000000000",
          "2024-10-24T00:00:00.000000000",
          "2024-10-25T00:00:00.000000000",
          "2024-10-28T00:00:00.000000000",
          "2024-10-29T00:00:00.000000000",
          "2024-10-30T00:00:00.000000000",
          "2024-10-31T00:00:00.000000000",
          "2024-11-01T00:00:00.000000000",
          "2024-11-04T00:00:00.000000000",
          "2024-11-05T00:00:00.000000000",
          "2024-11-06T00:00:00.000000000",
          "2024-11-07T00:00:00.000000000",
          "2024-11-08T00:00:00.000000000",
          "2024-11-11T00:00:00.000000000",
          "2024-11-13T00:00:00.000000000",
          "2024-11-14T00:00:00.000000000",
          "2024-11-15T00:00:00.000000000",
          "2024-11-18T00:00:00.000000000",
          "2024-11-19T00:00:00.000000000",
          "2024-11-20T00:00:00.000000000",
          "2024-11-21T00:00:00.000000000",
          "2024-11-22T00:00:00.000000000",
          "2024-11-25T00:00:00.000000000",
          "2024-11-26T00:00:00.000000000",
          "2024-11-27T00:00:00.000000000"
         ],
         "y": {
          "bdata": "0PD8y6zp0j+GnUfCxBPTP0yAcvItltM/ZZCyVzSs0z8S/de/30fVP2Vmf6e7ztM/1EFfeClt0z8srEGFEH3UP52f3MLbetM/PfcLY/h11T9JvDYnF1rVP1fsL7snD9Y/CCs8U9mV1T9V4F6loxPVP9Otywh4wNY/c+Rp8NCM1T9YA5fBJH3WP76NuywXD9c/bPeZnqGd1j+nFFYt47LYP/LF9mOBmtY/vr7QLzL41j++/Dwx3J7UPw+76aIJC9M/e19xRxrf1D9LjeIxErzQP+iKTp6iCtA/6qh+tuwb0D/AxZlBf5vQPz3PsZjno9I/xMOO2Wy/zz8xjTnio9jQP5UXPTih29E/XRWoxeBh0j+0AG2rWWfQP3XJNQuoT9A/vPOxqHUI0T8NVhe0pFrQP4JSV3DsStI/WB1FvkL4zj9MVj9CtbjRPw==",
          "dtype": "f8"
         },
         "yaxis": "y"
        },
        {
         "line": {
          "color": "orange"
         },
         "mode": "lines",
         "name": "MSFT Price",
         "type": "scatter",
         "visible": false,
         "x": [
          "2024-10-01T00:00:00.000000000",
          "2024-10-02T00:00:00.000000000",
          "2024-10-03T00:00:00.000000000",
          "2024-10-04T00:00:00.000000000",
          "2024-10-07T00:00:00.000000000",
          "2024-10-08T00:00:00.000000000",
          "2024-10-09T00:00:00.000000000",
          "2024-10-10T00:00:00.000000000",
          "2024-10-11T00:00:00.000000000",
          "2024-10-14T00:00:00.000000000",
          "2024-10-15T00:00:00.000000000",
          "2024-10-16T00:00:00.000000000",
          "2024-10-17T00:00:00.000000000",
          "2024-10-18T00:00:00.000000000",
          "2024-10-21T00:00:00.000000000",
          "2024-10-22T00:00:00.000000000",
          "2024-10-23T00:00:00.000000000",
          "2024-10-24T00:00:00.000000000",
          "2024-10-25T00:00:00.000000000",
          "2024-10-28T00:00:00.000000000",
          "2024-10-29T00:00:00.000000000",
          "2024-10-30T00:00:00.000000000",
          "2024-10-31T00:00:00.000000000",
          "2024-11-01T00:00:00.000000000",
          "2024-11-04T00:00:00.000000000",
          "2024-11-05T00:00:00.000000000",
          "2024-11-06T00:00:00.000000000",
          "2024-11-07T00:00:00.000000000",
          "2024-11-08T00:00:00.000000000",
          "2024-11-11T00:00:00.000000000",
          "2024-11-13T00:00:00.000000000",
          "2024-11-14T00:00:00.000000000",
          "2024-11-15T00:00:00.000000000",
          "2024-11-18T00:00:00.000000000",
          "2024-11-19T00:00:00.000000000",
          "2024-11-20T00:00:00.000000000",
          "2024-11-21T00:00:00.000000000",
          "2024-11-22T00:00:00.000000000",
          "2024-11-25T00:00:00.000000000",
          "2024-11-26T00:00:00.000000000",
          "2024-11-27T00:00:00.000000000"
         ],
         "y": {
          "bdata": "AAAAQApLekAAAACAFBJ6QAAAAOCjCHpAAAAAwPUAekAAAADgo5h5QAAAACBc63lAAAAAIFwXekAAAACgcP15QAAAAMAeBXpAAAAAgD0yekAAAAAA1yt6QAAAAIDrAXpAAAAAIIULekAAAABgjyJ6QAAAAOB6LHpAAAAAACm4ekAAAACgmYl6QAAAACCui3pAAAAAYGbCekAAAACgcKl6QAAAAEAz/3pAAAAA4HoIe0AAAACgmWV5QAAAAIDrpXlAAAAAIFyHeUAAAAAgXLd5QAAAAEDhQnpAAAAAQOGWekAAAADgo2h6QAAAAAApIHpAAAAAQDOTekAAAACAPa56QAAAAAAA8HlAAAAAACn8eUAAAADgoxx6QAAAAADX93lAAAAAgOvNeUAAAAAAABB6QAAAAOCjLHpAAAAAANe/ekAAAAAA1296QA==",
          "dtype": "f8"
         },
         "yaxis": "y2"
        },
        {
         "line": {
          "color": "red",
          "dash": "dot"
         },
         "mode": "lines",
         "name": "MSFT Earnings",
         "showlegend": false,
         "type": "scatter",
         "visible": false,
         "x": [
          "2024-10-30T00:00:00",
          "2024-10-30T00:00:00"
         ],
         "y": [
          0.2419513157894737,
          0.3859184210526316
         ],
         "yaxis": "y"
        },
        {
         "line": {
          "color": "blue"
         },
         "mode": "lines",
         "name": "AMZN IV",
         "type": "scatter",
         "visible": false,
         "x": [
          "2024-10-01T00:00:00.000000000",
          "2024-10-02T00:00:00.000000000",
          "2024-10-03T00:00:00.000000000",
          "2024-10-04T00:00:00.000000000",
          "2024-10-07T00:00:00.000000000",
          "2024-10-08T00:00:00.000000000",
          "2024-10-09T00:00:00.000000000",
          "2024-10-10T00:00:00.000000000",
          "2024-10-11T00:00:00.000000000",
          "2024-10-14T00:00:00.000000000",
          "2024-10-15T00:00:00.000000000",
          "2024-10-16T00:00:00.000000000",
          "2024-10-17T00:00:00.000000000",
          "2024-10-18T00:00:00.000000000",
          "2024-10-21T00:00:00.000000000",
          "2024-10-22T00:00:00.000000000",
          "2024-10-23T00:00:00.000000000",
          "2024-10-24T00:00:00.000000000",
          "2024-10-25T00:00:00.000000000",
          "2024-10-28T00:00:00.000000000",
          "2024-10-29T00:00:00.000000000",
          "2024-10-30T00:00:00.000000000",
          "2024-10-31T00:00:00.000000000",
          "2024-11-01T00:00:00.000000000",
          "2024-11-04T00:00:00.000000000",
          "2024-11-05T00:00:00.000000000",
          "2024-11-06T00:00:00.000000000",
          "2024-11-07T00:00:00.000000000",
          "2024-11-08T00:00:00.000000000",
          "2024-11-11T00:00:00.000000000",
          "2024-11-13T00:00:00.000000000",
          "2024-11-14T00:00:00.000000000",
          "2024-11-15T00:00:00.000000000",
          "2024-11-18T00:00:00.000000000",
          "2024-11-19T00:00:00.000000000",
          "2024-11-20T00:00:00.000000000",
          "2024-11-21T00:00:00.000000000",
          "2024-11-22T00:00:00.000000000",
          "2024-11-25T00:00:00.000000000",
          "2024-11-26T00:00:00.000000000",
          "2024-11-27T00:00:00.000000000"
         ],
         "y": {
          "bdata": "Jv14e1hp1j9BYOXQIpvWP1j5PvXo5tc/6Fq47f1K1j8+5qz4L7nZP0DFsAK72dg///WDpuOK1z/95gLYAn/XPxr/PuPCgdY/g+Pih6FB2D/kgYfnaBTaP1xplzIvBds/gZ6IglqO2j9zAWyBv5zaPz3Cng+JF9w/lBsyC9pR2z9a07zjFB3dP1HPv54x0Nw/2vhQ42Bz3T/bTAMCXA7gP/+0qKZ79Ns/gs8PI4RH3T+ZB+0WAyjgP3vuyAmxPtU/y33Um6Cv1j9ingr6RqDTP/vE4oJfYdM/bsgsaEeX0z+lby83a3/SPzcUVe322NQ/Yn1lGpzq0j+l5AqIA73SPwgZf4urmNU/e4G7KMkc1j9Dncvpwb/TP8TDjXBpF9U/DxC9qrAf1j9sUpVn/IbUP3s4bExtptU/nTjuLZ+B0z/88o2Z4jXTPw==",
          "dtype": "f8"
         },
         "yaxis": "y"
        },
        {
         "line": {
          "color": "orange"
         },
         "mode": "lines",
         "name": "AMZN Price",
         "type": "scatter",
         "visible": false,
         "x": [
          "2024-10-01T00:00:00.000000000",
          "2024-10-02T00:00:00.000000000",
          "2024-10-03T00:00:00.000000000",
          "2024-10-04T00:00:00.000000000",
          "2024-10-07T00:00:00.000000000",
          "2024-10-08T00:00:00.000000000",
          "2024-10-09T00:00:00.000000000",
          "2024-10-10T00:00:00.000000000",
          "2024-10-11T00:00:00.000000000",
          "2024-10-14T00:00:00.000000000",
          "2024-10-15T00:00:00.000000000",
          "2024-10-16T00:00:00.000000000",
          "2024-10-17T00:00:00.000000000",
          "2024-10-18T00:00:00.000000000",
          "2024-10-21T00:00:00.000000000",
          "2024-10-22T00:00:00.000000000",
          "2024-10-23T00:00:00.000000000",
          "2024-10-24T00:00:00.000000000",
          "2024-10-25T00:00:00.000000000",
          "2024-10-28T00:00:00.000000000",
          "2024-10-29T00:00:00.000000000",
          "2024-10-30T00:00:00.000000000",
          "2024-10-31T00:00:00.000000000",
          "2024-11-01T00:00:00.000000000",
          "2024-11-04T00:00:00.000000000",
          "2024-11-05T00:00:00.000000000",
          "2024-11-06T00:00:00.000000000",
          "2024-11-07T00:00:00.000000000",
          "2024-11-08T00:00:00.000000000",
          "2024-11-11T00:00:00.000000000",
          "2024-11-13T00:00:00.000000000",
          "2024-11-14T00:00:00.000000000",
          "2024-11-15T00:00:00.000000000",
          "2024-11-18T00:00:00.000000000",
          "2024-11-19T00:00:00.000000000",
          "2024-11-20T00:00:00.000000000",
          "2024-11-21T00:00:00.000000000",
          "2024-11-22T00:00:00.000000000",
          "2024-11-25T00:00:00.000000000",
          "2024-11-26T00:00:00.000000000",
          "2024-11-27T00:00:00.000000000"
         ],
         "y": {
          "bdata": "AAAAACkkZ0AAAADgURhnQAAAAGC4vmZAAAAA4FFQZ0AAAACgmZlmQAAAAEAK12ZAAAAAoHAlZ0AAAADAzFRnQAAAAIA9mmdAAAAAoEdxZ0AAAACAFHZnQAAAAOB6XGdAAAAAwPVwZ0AAAAAgrp9nQAAAAIA9omdAAAAAYGa2Z0AAAABguBZnQAAAAAApTGdAAAAAYI96Z0AAAADgeoxnQAAAAGCP2mdAAAAAIFwXaEAAAADAzExnQAAAAIDCvWhAAAAAwPV4aEAAAAAAAPBoQAAAAEDh4mlAAAAAoJlBakAAAACAwgVqQAAAAEDh2mlAAAAAQDPDakAAAAAgXG9qQAAAACCFU2lAAAAAYGY2aUAAAAAghZNpQAAAAAApXGlAAAAAACnMaEAAAAAA16NoQAAAAGBmLmlAAAAAIIX7aUAAAAAgrrdpQA==",
          "dtype": "f8"
         },
         "yaxis": "y2"
        },
        {
         "line": {
          "color": "red",
          "dash": "dot"
         },
         "mode": "lines",
         "name": "AMZN Earnings",
         "showlegend": false,
         "type": "scatter",
         "visible": false,
         "x": [
          "2024-10-31T00:00:00",
          "2024-10-31T00:00:00"
         ],
         "y": [
          0.28902702702702704,
          0.5048842857142858
         ],
         "yaxis": "y"
        },
        {
         "line": {
          "color": "blue"
         },
         "mode": "lines",
         "name": "GOOGL IV",
         "type": "scatter",
         "visible": false,
         "x": [
          "2024-10-01T00:00:00.000000000",
          "2024-10-02T00:00:00.000000000",
          "2024-10-03T00:00:00.000000000",
          "2024-10-04T00:00:00.000000000",
          "2024-10-07T00:00:00.000000000",
          "2024-10-08T00:00:00.000000000",
          "2024-10-09T00:00:00.000000000",
          "2024-10-10T00:00:00.000000000",
          "2024-10-11T00:00:00.000000000",
          "2024-10-14T00:00:00.000000000",
          "2024-10-15T00:00:00.000000000",
          "2024-10-16T00:00:00.000000000",
          "2024-10-17T00:00:00.000000000",
          "2024-10-18T00:00:00.000000000",
          "2024-10-21T00:00:00.000000000",
          "2024-10-22T00:00:00.000000000",
          "2024-10-23T00:00:00.000000000",
          "2024-10-24T00:00:00.000000000",
          "2024-10-25T00:00:00.000000000",
          "2024-10-28T00:00:00.000000000",
          "2024-10-29T00:00:00.000000000",
          "2024-10-30T00:00:00.000000000",
          "2024-10-31T00:00:00.000000000",
          "2024-11-01T00:00:00.000000000",
          "2024-11-04T00:00:00.000000000",
          "2024-11-05T00:00:00.000000000",
          "2024-11-06T00:00:00.000000000",
          "2024-11-07T00:00:00.000000000",
          "2024-11-08T00:00:00.000000000",
          "2024-11-11T00:00:00.000000000",
          "2024-11-13T00:00:00.000000000",
          "2024-11-14T00:00:00.000000000",
          "2024-11-15T00:00:00.000000000",
          "2024-11-18T00:00:00.000000000",
          "2024-11-19T00:00:00.000000000",
          "2024-11-20T00:00:00.000000000",
          "2024-11-21T00:00:00.000000000",
          "2024-11-22T00:00:00.000000000",
          "2024-11-25T00:00:00.000000000",
          "2024-11-26T00:00:00.000000000",
          "2024-11-27T00:00:00.000000000"
         ],
         "y": {
          "bdata": "kIgpkUQv1T/d6SxqWl3VP9TvkyunI9Y/nM6F34VU1T8W2c73U8PYPwBf90NZ5dc/egg8o36f1z99rQMmiuzWPzn5AdEp59Y/tSvqiaTT1j+IUciGJkHZP+hILv8h/dk/Xf5D+u3r2T/5OPL1icXZP3OxLbQRE9s/93tnuXGQ2j+h+DHmriXaP+kM8DRntds/k6dVnX753D9TKN/1L2jgP8Dk6msBRdw/5eg+TXos1T8aO+tdxlfVP8RWb3PJ19Q/yKKcG4ZC1j/YJjlrxV/TP0ATYcPTy9I/f7QSzRbj0D+6RbKZlT/TPxRbPLfLedM/2qoLFCGn0T9xviAxicLSP1UwKqkTgNM/OhPi2S0R1T8q1SDPKGnSP/3RSjRbDNM/EDMOCIfx1D+KXc/vBOnTP6DR6HXRu9Q/hQWb3mnW0j8j3SYzNWDUPw==",
          "dtype": "f8"
         },
         "yaxis": "y"
        },
        {
         "line": {
          "color": "orange"
         },
         "mode": "lines",
         "name": "GOOGL Price",
         "type": "scatter",
         "visible": false,
         "x": [
          "2024-10-01T00:00:00.000000000",
          "2024-10-02T00:00:00.000000000",
          "2024-10-03T00:00:00.000000000",
          "2024-10-04T00:00:00.000000000",
          "2024-10-07T00:00:00.000000000",
          "2024-10-08T00:00:00.000000000",
          "2024-10-09T00:00:00.000000000",
          "2024-10-10T00:00:00.000000000",
          "2024-10-11T00:00:00.000000000",
          "2024-10-14T00:00:00.000000000",
          "2024-10-15T00:00:00.000000000",
          "2024-10-16T00:00:00.000000000",
          "2024-10-17T00:00:00.000000000",
          "2024-10-18T00:00:00.000000000",
          "2024-10-21T00:00:00.000000000",
          "2024-10-22T00:00:00.000000000",
          "2024-10-23T00:00:00.000000000",
          "2024-10-24T00:00:00.000000000",
          "2024-10-25T00:00:00.000000000",
          "2024-10-28T00:00:00.000000000",
          "2024-10-29T00:00:00.000000000",
          "2024-10-30T00:00:00.000000000",
          "2024-10-31T00:00:00.000000000",
          "2024-11-01T00:00:00.000000000",
          "2024-11-04T00:00:00.000000000",
          "2024-11-05T00:00:00.000000000",
          "2024-11-06T00:00:00.000000000",
          "2024-11-07T00:00:00.000000000",
          "2024-11-08T00:00:00.000000000",
          "2024-11-11T00:00:00.000000000",
          "2024-11-13T00:00:00.000000000",
          "2024-11-14T00:00:00.000000000",
          "2024-11-15T00:00:00.000000000",
          "2024-11-18T00:00:00.000000000",
          "2024-11-19T00:00:00.000000000",
          "2024-11-20T00:00:00.000000000",
          "2024-11-21T00:00:00.000000000",
          "2024-11-22T00:00:00.000000000",
          "2024-11-25T00:00:00.000000000",
          "2024-11-26T00:00:00.000000000",
          "2024-11-27T00:00:00.000000000"
         ],
         "y": {
          "bdata": "AAAAIK7fZEAAAAAghbtkQAAAACCFu2RAAAAAgOvhZEAAAAAgXF9kQAAAAAApjGRAAAAAIIU7ZEAAAABgj0JkQAAAACCuZ2RAAAAAYLieZEAAAABguK5kQAAAAMAepWRAAAAAgMJdZEAAAACgcG1kQAAAAIA9gmRAAAAA4HqkZEAAAADA9VhkQAAAAEAKV2RAAAAA4KOoZEAAAABACtdkQAAAAIDCNWVAAAAAYLjOZUAAAAAghWNlQAAAAKBHaWVAAAAAIK4nZUAAAAAgrjdlQAAAAOBREGZAAAAAAACYZkAAAABAM0tmQAAAAEAzi2ZAAAAAAClcZkAAAABgj/JlQAAAACCuj2VAAAAAoJnpZUAAAAAA10NmQAAAACBc/2VAAAAAACn0ZEAAAADgUZhkQAAAAMDM9GRAAAAAANcjZUAAAAAgXCdlQA==",
          "dtype": "f8"
         },
         "yaxis": "y2"
        },
        {
         "line": {
          "color": "red",
          "dash": "dot"
         },
         "mode": "lines",
         "name": "GOOGL Earnings",
         "showlegend": false,
         "type": "scatter",
         "visible": false,
         "x": [
          "2024-10-29T00:00:00",
          "2024-10-29T00:00:00"
         ],
         "y": [
          0.26386041666666665,
          0.5127181818181817
         ],
         "yaxis": "y"
        },
        {
         "line": {
          "color": "blue"
         },
         "mode": "lines",
         "name": "TSLA IV",
         "type": "scatter",
         "visible": false,
         "x": [
          "2024-09-23T00:00:00.000000000",
          "2024-09-24T00:00:00.000000000",
          "2024-09-25T00:00:00.000000000",
          "2024-09-26T00:00:00.000000000",
          "2024-09-27T00:00:00.000000000",
          "2024-09-30T00:00:00.000000000",
          "2024-10-01T00:00:00.000000000",
          "2024-10-02T00:00:00.000000000",
          "2024-10-03T00:00:00.000000000",
          "2024-10-04T00:00:00.000000000",
          "2024-10-07T00:00:00.000000000",
          "2024-10-08T00:00:00.000000000",
          "2024-10-09T00:00:00.000000000",
          "2024-10-10T00:00:00.000000000",
          "2024-10-11T00:00:00.000000000",
          "2024-10-14T00:00:00.000000000",
          "2024-10-15T00:00:00.000000000",
          "2024-10-16T00:00:00.000000000",
          "2024-10-17T00:00:00.000000000",
          "2024-10-18T00:00:00.000000000",
          "2024-10-21T00:00:00.000000000",
          "2024-10-22T00:00:00.000000000",
          "2024-10-23T00:00:00.000000000",
          "2024-10-24T00:00:00.000000000",
          "2024-10-25T00:00:00.000000000",
          "2024-10-28T00:00:00.000000000",
          "2024-10-29T00:00:00.000000000",
          "2024-10-30T00:00:00.000000000",
          "2024-10-31T00:00:00.000000000",
          "2024-11-01T00:00:00.000000000",
          "2024-11-04T00:00:00.000000000",
          "2024-11-05T00:00:00.000000000",
          "2024-11-06T00:00:00.000000000",
          "2024-11-07T00:00:00.000000000",
          "2024-11-08T00:00:00.000000000",
          "2024-11-11T00:00:00.000000000",
          "2024-11-13T00:00:00.000000000",
          "2024-11-14T00:00:00.000000000",
          "2024-11-15T00:00:00.000000000",
          "2024-11-18T00:00:00.000000000",
          "2024-11-19T00:00:00.000000000",
          "2024-11-20T00:00:00.000000000",
          "2024-11-21T00:00:00.000000000"
         ],
         "y": {
          "bdata": "g+zXoClH5T+6JU79ntvmP0CFKb65SOc/MzZ6KVRA6D/TX8ESHs/pP5zj1rDHu+k/eVBZO3XW5j8qM7B43TzmP9Otywh4wOU/7UsqMkNR5T+3KRvcyirnP7mKv/n1OuY/FnXKorJd5j+j+BilWb3mP0Nx5eIwwOQ/l/+Qfvs65D+W1zcd7hDjP7q8yH9FkuI/uNymoz1A4j8E+Iw6+/LhP8+Fi+i//uI/ShWJHUQb4z9WwJrR4hvlPybpi6IEA+M/cO0+0zM05D/dx+N+lsnjP1bvdrFInOE/qrhuUO/B4T9BKsjJ0JnhPwmp1WNDruE/oxoyCsvv4z+0n7C13JbiPyR6I9+U2+E/888GbO9K4T9GfY8AYirlP5VqkGeUNOk/wgXHUD+N5D93IxEXhrziP4qO5PIfUuM/cf+d1flJ5T+sNghhWdrkPxOxjtebIeQ/FKHw4utW4z8=",
          "dtype": "f8"
         },
         "yaxis": "y"
        },
        {
         "line": {
          "color": "orange"
         },
         "mode": "lines",
         "name": "TSLA Price",
         "type": "scatter",
         "visible": false,
         "x": [
          "2024-09-23T00:00:00.000000000",
          "2024-09-24T00:00:00.000000000",
          "2024-09-25T00:00:00.000000000",
          "2024-09-26T00:00:00.000000000",
          "2024-09-27T00:00:00.000000000",
          "2024-09-30T00:00:00.000000000",
          "2024-10-01T00:00:00.000000000",
          "2024-10-02T00:00:00.000000000",
          "2024-10-03T00:00:00.000000000",
          "2024-10-04T00:00:00.000000000",
          "2024-10-07T00:00:00.000000000",
          "2024-10-08T00:00:00.000000000",
          "2024-10-09T00:00:00.000000000",
          "2024-10-10T00:00:00.000000000",
          "2024-10-11T00:00:00.000000000",
          "2024-10-14T00:00:00.000000000",
          "2024-10-15T00:00:00.000000000",
          "2024-10-16T00:00:00.000000000",
          "2024-10-17T00:00:00.000000000",
          "2024-10-18T00:00:00.000000000",
          "2024-10-21T00:00:00.000000000",
          "2024-10-22T00:00:00.000000000",
          "2024-10-23T00:00:00.000000000",
          "2024-10-24T00:00:00.000000000",
          "2024-10-25T00:00:00.000000000",
          "2024-10-28T00:00:00.000000000",
          "2024-10-29T00:00:00.000000000",
          "2024-10-30T00:00:00.000000000",
          "2024-10-31T00:00:00.000000000",
          "2024-11-01T00:00:00.000000000",
          "2024-11-04T00:00:00.000000000",
          "2024-11-05T00:00:00.000000000",
          "2024-11-06T00:00:00.000000000",
          "2024-11-07T00:00:00.000000000",
          "2024-11-08T00:00:00.000000000",
          "2024-11-11T00:00:00.000000000",
          "2024-11-13T00:00:00.000000000",
          "2024-11-14T00:00:00.000000000",
          "2024-11-15T00:00:00.000000000",
          "2024-11-18T00:00:00.000000000",
          "2024-11-19T00:00:00.000000000",
          "2024-11-20T00:00:00.000000000",
          "2024-11-21T00:00:00.000000000"
         ],
         "y": {
          "bdata": "AAAAAABAb0AAAADgo8hvQAAAAOBREHBAAAAAQArHb0AAAAAgXEdwQAAAAIAUWnBAAAAA4FEgcEAAAADgoyBvQAAAAMAeFW5AAAAAYI9Cb0AAAABgjxpuQAAAAAAAkG5AAAAAoJkhbkAAAADgo9htQAAAAKCZOWtAAAAAwB5la0AAAACAPXJrQAAAAGCPqmtAAAAA4Hqca0AAAABgZpZrQAAAAEAzW2tAAAAAQAo/a0AAAADAzLRqQAAAACCuR3BAAAAAQArTcEAAAAAAKWhwQAAAAOBROHBAAAAAwMwYcEAAAABAMztvQAAAACBcH29AAAAAQOFabkAAAACAFG5vQAAAAOB6CHJAAAAAYI+OckAAAAAghRN0QAAAAAAA4HVAAAAAANejdEAAAABA4XJzQAAAACCFC3RAAAAAANcrdUAAAAAAAKB1QAAAAOB6YHVAAAAAgD06dUA=",
          "dtype": "f8"
         },
         "yaxis": "y2"
        },
        {
         "line": {
          "color": "red",
          "dash": "dot"
         },
         "mode": "lines",
         "name": "TSLA Earnings",
         "showlegend": false,
         "type": "scatter",
         "visible": false,
         "x": [
          "2024-10-23T00:00:00",
          "2024-10-23T00:00:00"
         ],
         "y": [
          0.5403973684210527,
          0.8065328947368421
         ],
         "yaxis": "y"
        }
       ],
       "layout": {
        "legend": {
         "x": 0.02,
         "y": 0.98
        },
        "template": {
         "data": {
          "bar": [
           {
            "error_x": {
             "color": "#2a3f5f"
            },
            "error_y": {
             "color": "#2a3f5f"
            },
            "marker": {
             "line": {
              "color": "#E5ECF6",
              "width": 0.5
             },
             "pattern": {
              "fillmode": "overlay",
              "size": 10,
              "solidity": 0.2
             }
            },
            "type": "bar"
           }
          ],
          "barpolar": [
           {
            "marker": {
             "line": {
              "color": "#E5ECF6",
              "width": 0.5
             },
             "pattern": {
              "fillmode": "overlay",
              "size": 10,
              "solidity": 0.2
             }
            },
            "type": "barpolar"
           }
          ],
          "carpet": [
           {
            "aaxis": {
             "endlinecolor": "#2a3f5f",
             "gridcolor": "white",
             "linecolor": "white",
             "minorgridcolor": "white",
             "startlinecolor": "#2a3f5f"
            },
            "baxis": {
             "endlinecolor": "#2a3f5f",
             "gridcolor": "white",
             "linecolor": "white",
             "minorgridcolor": "white",
             "startlinecolor": "#2a3f5f"
            },
            "type": "carpet"
           }
          ],
          "choropleth": [
           {
            "colorbar": {
             "outlinewidth": 0,
             "ticks": ""
            },
            "type": "choropleth"
           }
          ],
          "contour": [
           {
            "colorbar": {
             "outlinewidth": 0,
             "ticks": ""
            },
            "colorscale": [
             [
              0,
              "#0d0887"
             ],
             [
              0.1111111111111111,
              "#46039f"
             ],
             [
              0.2222222222222222,
              "#7201a8"
             ],
             [
              0.3333333333333333,
              "#9c179e"
             ],
             [
              0.4444444444444444,
              "#bd3786"
             ],
             [
              0.5555555555555556,
              "#d8576b"
             ],
             [
              0.6666666666666666,
              "#ed7953"
             ],
             [
              0.7777777777777778,
              "#fb9f3a"
             ],
             [
              0.8888888888888888,
              "#fdca26"
             ],
             [
              1,
              "#f0f921"
             ]
            ],
            "type": "contour"
           }
          ],
          "contourcarpet": [
           {
            "colorbar": {
             "outlinewidth": 0,
             "ticks": ""
            },
            "type": "contourcarpet"
           }
          ],
          "heatmap": [
           {
            "colorbar": {
             "outlinewidth": 0,
             "ticks": ""
            },
            "colorscale": [
             [
              0,
              "#0d0887"
             ],
             [
              0.1111111111111111,
              "#46039f"
             ],
             [
              0.2222222222222222,
              "#7201a8"
             ],
             [
              0.3333333333333333,
              "#9c179e"
             ],
             [
              0.4444444444444444,
              "#bd3786"
             ],
             [
              0.5555555555555556,
              "#d8576b"
             ],
             [
              0.6666666666666666,
              "#ed7953"
             ],
             [
              0.7777777777777778,
              "#fb9f3a"
             ],
             [
              0.8888888888888888,
              "#fdca26"
             ],
             [
              1,
              "#f0f921"
             ]
            ],
            "type": "heatmap"
           }
          ],
          "histogram": [
           {
            "marker": {
             "pattern": {
              "fillmode": "overlay",
              "size": 10,
              "solidity": 0.2
             }
            },
            "type": "histogram"
           }
          ],
          "histogram2d": [
           {
            "colorbar": {
             "outlinewidth": 0,
             "ticks": ""
            },
            "colorscale": [
             [
              0,
              "#0d0887"
             ],
             [
              0.1111111111111111,
              "#46039f"
             ],
             [
              0.2222222222222222,
              "#7201a8"
             ],
             [
              0.3333333333333333,
              "#9c179e"
             ],
             [
              0.4444444444444444,
              "#bd3786"
             ],
             [
              0.5555555555555556,
              "#d8576b"
             ],
             [
              0.6666666666666666,
              "#ed7953"
             ],
             [
              0.7777777777777778,
              "#fb9f3a"
             ],
             [
              0.8888888888888888,
              "#fdca26"
             ],
             [
              1,
              "#f0f921"
             ]
            ],
            "type": "histogram2d"
           }
          ],
          "histogram2dcontour": [
           {
            "colorbar": {
             "outlinewidth": 0,
             "ticks": ""
            },
            "colorscale": [
             [
              0,
              "#0d0887"
             ],
             [
              0.1111111111111111,
              "#46039f"
             ],
             [
              0.2222222222222222,
              "#7201a8"
             ],
             [
              0.3333333333333333,
              "#9c179e"
             ],
             [
              0.4444444444444444,
              "#bd3786"
             ],
             [
              0.5555555555555556,
              "#d8576b"
             ],
             [
              0.6666666666666666,
              "#ed7953"
             ],
             [
              0.7777777777777778,
              "#fb9f3a"
             ],
             [
              0.8888888888888888,
              "#fdca26"
             ],
             [
              1,
              "#f0f921"
             ]
            ],
            "type": "histogram2dcontour"
           }
          ],
          "mesh3d": [
           {
            "colorbar": {
             "outlinewidth": 0,
             "ticks": ""
            },
            "type": "mesh3d"
           }
          ],
          "parcoords": [
           {
            "line": {
             "colorbar": {
              "outlinewidth": 0,
              "ticks": ""
             }
            },
            "type": "parcoords"
           }
          ],
          "pie": [
           {
            "automargin": true,
            "type": "pie"
           }
          ],
          "scatter": [
           {
            "fillpattern": {
             "fillmode": "overlay",
             "size": 10,
             "solidity": 0.2
            },
            "type": "scatter"
           }
          ],
          "scatter3d": [
           {
            "line": {
             "colorbar": {
              "outlinewidth": 0,
              "ticks": ""
             }
            },
            "marker": {
             "colorbar": {
              "outlinewidth": 0,
              "ticks": ""
             }
            },
            "type": "scatter3d"
           }
          ],
          "scattercarpet": [
           {
            "marker": {
             "colorbar": {
              "outlinewidth": 0,
              "ticks": ""
             }
            },
            "type": "scattercarpet"
           }
          ],
          "scattergeo": [
           {
            "marker": {
             "colorbar": {
              "outlinewidth": 0,
              "ticks": ""
             }
            },
            "type": "scattergeo"
           }
          ],
          "scattergl": [
           {
            "marker": {
             "colorbar": {
              "outlinewidth": 0,
              "ticks": ""
             }
            },
            "type": "scattergl"
           }
          ],
          "scattermap": [
           {
            "marker": {
             "colorbar": {
              "outlinewidth": 0,
              "ticks": ""
             }
            },
            "type": "scattermap"
           }
          ],
          "scattermapbox": [
           {
            "marker": {
             "colorbar": {
              "outlinewidth": 0,
              "ticks": ""
             }
            },
            "type": "scattermapbox"
           }
          ],
          "scatterpolar": [
           {
            "marker": {
             "colorbar": {
              "outlinewidth": 0,
              "ticks": ""
             }
            },
            "type": "scatterpolar"
           }
          ],
          "scatterpolargl": [
           {
            "marker": {
             "colorbar": {
              "outlinewidth": 0,
              "ticks": ""
             }
            },
            "type": "scatterpolargl"
           }
          ],
          "scatterternary": [
           {
            "marker": {
             "colorbar": {
              "outlinewidth": 0,
              "ticks": ""
             }
            },
            "type": "scatterternary"
           }
          ],
          "surface": [
           {
            "colorbar": {
             "outlinewidth": 0,
             "ticks": ""
            },
            "colorscale": [
             [
              0,
              "#0d0887"
             ],
             [
              0.1111111111111111,
              "#46039f"
             ],
             [
              0.2222222222222222,
              "#7201a8"
             ],
             [
              0.3333333333333333,
              "#9c179e"
             ],
             [
              0.4444444444444444,
              "#bd3786"
             ],
             [
              0.5555555555555556,
              "#d8576b"
             ],
             [
              0.6666666666666666,
              "#ed7953"
             ],
             [
              0.7777777777777778,
              "#fb9f3a"
             ],
             [
              0.8888888888888888,
              "#fdca26"
             ],
             [
              1,
              "#f0f921"
             ]
            ],
            "type": "surface"
           }
          ],
          "table": [
           {
            "cells": {
             "fill": {
              "color": "#EBF0F8"
             },
             "line": {
              "color": "white"
             }
            },
            "header": {
             "fill": {
              "color": "#C8D4E3"
             },
             "line": {
              "color": "white"
             }
            },
            "type": "table"
           }
          ]
         },
         "layout": {
          "annotationdefaults": {
           "arrowcolor": "#2a3f5f",
           "arrowhead": 0,
           "arrowwidth": 1
          },
          "autotypenumbers": "strict",
          "coloraxis": {
           "colorbar": {
            "outlinewidth": 0,
            "ticks": ""
           }
          },
          "colorscale": {
           "diverging": [
            [
             0,
             "#8e0152"
            ],
            [
             0.1,
             "#c51b7d"
            ],
            [
             0.2,
             "#de77ae"
            ],
            [
             0.3,
             "#f1b6da"
            ],
            [
             0.4,
             "#fde0ef"
            ],
            [
             0.5,
             "#f7f7f7"
            ],
            [
             0.6,
             "#e6f5d0"
            ],
            [
             0.7,
             "#b8e186"
            ],
            [
             0.8,
             "#7fbc41"
            ],
            [
             0.9,
             "#4d9221"
            ],
            [
             1,
             "#276419"
            ]
           ],
           "sequential": [
            [
             0,
             "#0d0887"
            ],
            [
             0.1111111111111111,
             "#46039f"
            ],
            [
             0.2222222222222222,
             "#7201a8"
            ],
            [
             0.3333333333333333,
             "#9c179e"
            ],
            [
             0.4444444444444444,
             "#bd3786"
            ],
            [
             0.5555555555555556,
             "#d8576b"
            ],
            [
             0.6666666666666666,
             "#ed7953"
            ],
            [
             0.7777777777777778,
             "#fb9f3a"
            ],
            [
             0.8888888888888888,
             "#fdca26"
            ],
            [
             1,
             "#f0f921"
            ]
           ],
           "sequentialminus": [
            [
             0,
             "#0d0887"
            ],
            [
             0.1111111111111111,
             "#46039f"
            ],
            [
             0.2222222222222222,
             "#7201a8"
            ],
            [
             0.3333333333333333,
             "#9c179e"
            ],
            [
             0.4444444444444444,
             "#bd3786"
            ],
            [
             0.5555555555555556,
             "#d8576b"
            ],
            [
             0.6666666666666666,
             "#ed7953"
            ],
            [
             0.7777777777777778,
             "#fb9f3a"
            ],
            [
             0.8888888888888888,
             "#fdca26"
            ],
            [
             1,
             "#f0f921"
            ]
           ]
          },
          "colorway": [
           "#636efa",
           "#EF553B",
           "#00cc96",
           "#ab63fa",
           "#FFA15A",
           "#19d3f3",
           "#FF6692",
           "#B6E880",
           "#FF97FF",
           "#FECB52"
          ],
          "font": {
           "color": "#2a3f5f"
          },
          "geo": {
           "bgcolor": "white",
           "lakecolor": "white",
           "landcolor": "#E5ECF6",
           "showlakes": true,
           "showland": true,
           "subunitcolor": "white"
          },
          "hoverlabel": {
           "align": "left"
          },
          "hovermode": "closest",
          "mapbox": {
           "style": "light"
          },
          "paper_bgcolor": "white",
          "plot_bgcolor": "#E5ECF6",
          "polar": {
           "angularaxis": {
            "gridcolor": "white",
            "linecolor": "white",
            "ticks": ""
           },
           "bgcolor": "#E5ECF6",
           "radialaxis": {
            "gridcolor": "white",
            "linecolor": "white",
            "ticks": ""
           }
          },
          "scene": {
           "xaxis": {
            "backgroundcolor": "#E5ECF6",
            "gridcolor": "white",
            "gridwidth": 2,
            "linecolor": "white",
            "showbackground": true,
            "ticks": "",
            "zerolinecolor": "white"
           },
           "yaxis": {
            "backgroundcolor": "#E5ECF6",
            "gridcolor": "white",
            "gridwidth": 2,
            "linecolor": "white",
            "showbackground": true,
            "ticks": "",
            "zerolinecolor": "white"
           },
           "zaxis": {
            "backgroundcolor": "#E5ECF6",
            "gridcolor": "white",
            "gridwidth": 2,
            "linecolor": "white",
            "showbackground": true,
            "ticks": "",
            "zerolinecolor": "white"
           }
          },
          "shapedefaults": {
           "line": {
            "color": "#2a3f5f"
           }
          },
          "ternary": {
           "aaxis": {
            "gridcolor": "white",
            "linecolor": "white",
            "ticks": ""
           },
           "baxis": {
            "gridcolor": "white",
            "linecolor": "white",
            "ticks": ""
           },
           "bgcolor": "#E5ECF6",
           "caxis": {
            "gridcolor": "white",
            "linecolor": "white",
            "ticks": ""
           }
          },
          "title": {
           "x": 0.05
          },
          "xaxis": {
           "automargin": true,
           "gridcolor": "white",
           "linecolor": "white",
           "ticks": "",
           "title": {
            "standoff": 15
           },
           "zerolinecolor": "white",
           "zerolinewidth": 2
          },
          "yaxis": {
           "automargin": true,
           "gridcolor": "white",
           "linecolor": "white",
           "ticks": "",
           "title": {
            "standoff": 15
           },
           "zerolinecolor": "white",
           "zerolinewidth": 2
          }
         }
        },
        "title": {
         "text": "AAPL - Implied Volatility & Stock Price"
        },
        "updatemenus": [
         {
          "active": 0,
          "buttons": [
           {
            "args": [
             {
              "visible": [
               true,
               true,
               true,
               false,
               false,
               false,
               false,
               false,
               false,
               false,
               false,
               false,
               false,
               false,
               false
              ]
             },
             {
              "title": "AAPL - Implied Volatility & Stock Price"
             }
            ],
            "label": "AAPL",
            "method": "update"
           },
           {
            "args": [
             {
              "visible": [
               false,
               false,
               false,
               true,
               true,
               true,
               false,
               false,
               false,
               false,
               false,
               false,
               false,
               false,
               false
              ]
             },
             {
              "title": "MSFT - Implied Volatility & Stock Price"
             }
            ],
            "label": "MSFT",
            "method": "update"
           },
           {
            "args": [
             {
              "visible": [
               false,
               false,
               false,
               false,
               false,
               false,
               true,
               true,
               true,
               false,
               false,
               false,
               false,
               false,
               false
              ]
             },
             {
              "title": "AMZN - Implied Volatility & Stock Price"
             }
            ],
            "label": "AMZN",
            "method": "update"
           },
           {
            "args": [
             {
              "visible": [
               false,
               false,
               false,
               false,
               false,
               false,
               false,
               false,
               false,
               true,
               true,
               true,
               false,
               false,
               false
              ]
             },
             {
              "title": "GOOGL - Implied Volatility & Stock Price"
             }
            ],
            "label": "GOOGL",
            "method": "update"
           },
           {
            "args": [
             {
              "visible": [
               false,
               false,
               false,
               false,
               false,
               false,
               false,
               false,
               false,
               false,
               false,
               false,
               true,
               true,
               true
              ]
             },
             {
              "title": "TSLA - Implied Volatility & Stock Price"
             }
            ],
            "label": "TSLA",
            "method": "update"
           }
          ],
          "x": 0.15,
          "xanchor": "left",
          "y": 1.15,
          "yanchor": "top"
         }
        ],
        "xaxis": {
         "title": {
          "text": "Date"
         }
        },
        "yaxis": {
         "side": "left",
         "title": {
          "text": "Implied Volatility"
         }
        },
        "yaxis2": {
         "overlaying": "y",
         "side": "right",
         "title": {
          "text": "Stock Price"
         }
        }
       }
      }
     },
     "metadata": {},
     "output_type": "display_data"
    }
   ],
   "source": [
    "fig = go.Figure()\n",
    "trace_offsets = {}\n",
    "trace_count = 0\n",
    "\n",
    "# Build traces per ticker and keep track of trace indices\n",
    "for ticker, df in merged_data.items():\n",
    "    idxs = []\n",
    "\n",
    "    # IV trace\n",
    "    fig.add_trace(go.Scatter(\n",
    "        x=df['date'], y=df['impliedVolatility'],\n",
    "        mode='lines', name=f'{ticker} IV',\n",
    "        line=dict(color='blue'), yaxis='y1', visible=False\n",
    "    ))\n",
    "    idxs.append(trace_count)\n",
    "    trace_count += 1\n",
    "\n",
    "    # Price trace\n",
    "    fig.add_trace(go.Scatter(\n",
    "        x=df['date'], y=df['Close'],\n",
    "        mode='lines', name=f'{ticker} Price',\n",
    "        line=dict(color='orange'), yaxis='y2', visible=False\n",
    "    ))\n",
    "    idxs.append(trace_count)\n",
    "    trace_count += 1\n",
    "\n",
    "    # Earnings vertical lines\n",
    "    for edate in earnings_dates.get(ticker, []):\n",
    "        e_date = pd.to_datetime(edate)\n",
    "        ymin = df['impliedVolatility'].min()\n",
    "        ymax = df['impliedVolatility'].max()\n",
    "        fig.add_trace(go.Scatter(\n",
    "            x=[e_date, e_date],\n",
    "            y=[ymin, ymax],\n",
    "            mode='lines',\n",
    "            line=dict(color='red', dash='dot'),\n",
    "            name=f'{ticker} Earnings',\n",
    "            yaxis='y1',\n",
    "            showlegend=False,\n",
    "            visible=False\n",
    "        ))\n",
    "        idxs.append(trace_count)\n",
    "        trace_count += 1\n",
    "\n",
    "    trace_offsets[ticker] = idxs\n",
    "\n",
    "# Set only the first ticker visible initially\n",
    "init_ticker = list(trace_offsets.keys())[0]\n",
    "for idx in trace_offsets[init_ticker]:\n",
    "    fig.data[idx].visible = True\n",
    "\n",
    "# Construct dropdown menu\n",
    "buttons = []\n",
    "for ticker, idxs in trace_offsets.items():\n",
    "    vis = [False] * trace_count\n",
    "    for i in idxs:\n",
    "        vis[i] = True\n",
    "    buttons.append(\n",
    "        dict(\n",
    "            label=ticker,\n",
    "            method='update',\n",
    "            args=[{'visible': vis}, {'title': f\"{ticker} - Implied Volatility & Stock Price\"}]\n",
    "        )\n",
    "    )\n",
    "\n",
    "fig.update_layout(\n",
    "    title=f\"{init_ticker} - Implied Volatility & Stock Price\",\n",
    "    xaxis_title=\"Date\",\n",
    "    yaxis=dict(title=\"Implied Volatility\", side='left'),\n",
    "    yaxis2=dict(title=\"Stock Price\", overlaying='y', side='right'),\n",
    "    updatemenus=[dict(active=0, buttons=buttons, x=0.15, xanchor='left', y=1.15, yanchor='top')],\n",
    "    legend=dict(x=0.02, y=0.98)\n",
    ")\n",
    "\n",
    "fig.show()\n"
   ]
  },
  {
   "cell_type": "code",
   "execution_count": 16,
   "id": "ac9572da",
   "metadata": {},
   "outputs": [
    {
     "data": {
      "text/html": [
       "<div>\n",
       "<style scoped>\n",
       "    .dataframe tbody tr th:only-of-type {\n",
       "        vertical-align: middle;\n",
       "    }\n",
       "\n",
       "    .dataframe tbody tr th {\n",
       "        vertical-align: top;\n",
       "    }\n",
       "\n",
       "    .dataframe thead th {\n",
       "        text-align: right;\n",
       "    }\n",
       "</style>\n",
       "<table border=\"1\" class=\"dataframe\">\n",
       "  <thead>\n",
       "    <tr style=\"text-align: right;\">\n",
       "      <th></th>\n",
       "      <th>Ticker</th>\n",
       "      <th>Start_IV</th>\n",
       "      <th>End_IV</th>\n",
       "      <th>IV_Runup_%</th>\n",
       "      <th>Event_Date</th>\n",
       "    </tr>\n",
       "  </thead>\n",
       "  <tbody>\n",
       "    <tr>\n",
       "      <th>0</th>\n",
       "      <td>AAPL</td>\n",
       "      <td>0.329804</td>\n",
       "      <td>0.346233</td>\n",
       "      <td>4.981394</td>\n",
       "      <td>2024-10-31</td>\n",
       "    </tr>\n",
       "    <tr>\n",
       "      <th>1</th>\n",
       "      <td>MSFT</td>\n",
       "      <td>0.351388</td>\n",
       "      <td>0.353180</td>\n",
       "      <td>0.510007</td>\n",
       "      <td>2024-10-30</td>\n",
       "    </tr>\n",
       "    <tr>\n",
       "      <th>2</th>\n",
       "      <td>AMZN</td>\n",
       "      <td>0.450207</td>\n",
       "      <td>0.457490</td>\n",
       "      <td>1.617668</td>\n",
       "      <td>2024-10-31</td>\n",
       "    </tr>\n",
       "    <tr>\n",
       "      <th>3</th>\n",
       "      <td>GOOGL</td>\n",
       "      <td>0.415066</td>\n",
       "      <td>0.512718</td>\n",
       "      <td>23.526852</td>\n",
       "      <td>2024-10-29</td>\n",
       "    </tr>\n",
       "    <tr>\n",
       "      <th>4</th>\n",
       "      <td>TSLA</td>\n",
       "      <td>0.580355</td>\n",
       "      <td>0.597078</td>\n",
       "      <td>2.881506</td>\n",
       "      <td>2024-10-23</td>\n",
       "    </tr>\n",
       "  </tbody>\n",
       "</table>\n",
       "</div>"
      ],
      "text/plain": [
       "  Ticker  Start_IV    End_IV  IV_Runup_% Event_Date\n",
       "0   AAPL  0.329804  0.346233    4.981394 2024-10-31\n",
       "1   MSFT  0.351388  0.353180    0.510007 2024-10-30\n",
       "2   AMZN  0.450207  0.457490    1.617668 2024-10-31\n",
       "3  GOOGL  0.415066  0.512718   23.526852 2024-10-29\n",
       "4   TSLA  0.580355  0.597078    2.881506 2024-10-23"
      ]
     },
     "metadata": {},
     "output_type": "display_data"
    }
   ],
   "source": [
    "def pre_earnings_iv_runup_trading(merged_data, earnings_dates, window=5):\n",
    "    results = []\n",
    "    for ticker, df in merged_data.items():\n",
    "        event_date = pd.to_datetime(earnings_dates[ticker][0])\n",
    "        event_idx = df.index[df['date'] == event_date].tolist()\n",
    "        if not event_idx:\n",
    "            continue\n",
    "        last_n_idx = max(event_idx[0] - window, 0)\n",
    "        runup_window = df.iloc[last_n_idx:event_idx[0]]\n",
    "        if not runup_window.empty:\n",
    "            iv_start = runup_window['impliedVolatility'].iloc[0]\n",
    "            iv_end = runup_window['impliedVolatility'].iloc[-1]\n",
    "            pct_change = (iv_end - iv_start) / iv_start * 100 if iv_start > 0 else 0\n",
    "            results.append({'Ticker': ticker, 'Start_IV': iv_start, 'End_IV': iv_end,\n",
    "                            'IV_Runup_%': pct_change, 'Event_Date': event_date})\n",
    "    return pd.DataFrame(results)\n",
    "display(pre_earnings_iv_runup_trading(merged_data, earnings_dates, window=5))\n"
   ]
  },
  {
   "cell_type": "code",
   "execution_count": 20,
   "id": "8ce12d4e",
   "metadata": {},
   "outputs": [
    {
     "data": {
      "text/html": [
       "<div>\n",
       "<style scoped>\n",
       "    .dataframe tbody tr th:only-of-type {\n",
       "        vertical-align: middle;\n",
       "    }\n",
       "\n",
       "    .dataframe tbody tr th {\n",
       "        vertical-align: top;\n",
       "    }\n",
       "\n",
       "    .dataframe thead th {\n",
       "        text-align: right;\n",
       "    }\n",
       "</style>\n",
       "<table border=\"1\" class=\"dataframe\">\n",
       "  <thead>\n",
       "    <tr style=\"text-align: right;\">\n",
       "      <th></th>\n",
       "      <th>Ticker</th>\n",
       "      <th>Event_Date</th>\n",
       "      <th>Pre_Earnings_IV</th>\n",
       "      <th>Post_Earnings_IV</th>\n",
       "      <th>IV_Crush_%</th>\n",
       "    </tr>\n",
       "  </thead>\n",
       "  <tbody>\n",
       "    <tr>\n",
       "      <th>0</th>\n",
       "      <td>AAPL</td>\n",
       "      <td>2024-10-31</td>\n",
       "      <td>0.346233</td>\n",
       "      <td>0.309886</td>\n",
       "      <td>10.497676</td>\n",
       "    </tr>\n",
       "    <tr>\n",
       "      <th>1</th>\n",
       "      <td>MSFT</td>\n",
       "      <td>2024-10-30</td>\n",
       "      <td>0.353180</td>\n",
       "      <td>0.322196</td>\n",
       "      <td>8.772917</td>\n",
       "    </tr>\n",
       "    <tr>\n",
       "      <th>2</th>\n",
       "      <td>AMZN</td>\n",
       "      <td>2024-10-31</td>\n",
       "      <td>0.457490</td>\n",
       "      <td>0.331951</td>\n",
       "      <td>27.440733</td>\n",
       "    </tr>\n",
       "    <tr>\n",
       "      <th>3</th>\n",
       "      <td>GOOGL</td>\n",
       "      <td>2024-10-29</td>\n",
       "      <td>0.512718</td>\n",
       "      <td>0.330840</td>\n",
       "      <td>35.473381</td>\n",
       "    </tr>\n",
       "    <tr>\n",
       "      <th>4</th>\n",
       "      <td>TSLA</td>\n",
       "      <td>2024-10-23</td>\n",
       "      <td>0.597078</td>\n",
       "      <td>0.594118</td>\n",
       "      <td>0.495740</td>\n",
       "    </tr>\n",
       "  </tbody>\n",
       "</table>\n",
       "</div>"
      ],
      "text/plain": [
       "  Ticker Event_Date  Pre_Earnings_IV  Post_Earnings_IV  IV_Crush_%\n",
       "0   AAPL 2024-10-31         0.346233          0.309886   10.497676\n",
       "1   MSFT 2024-10-30         0.353180          0.322196    8.772917\n",
       "2   AMZN 2024-10-31         0.457490          0.331951   27.440733\n",
       "3  GOOGL 2024-10-29         0.512718          0.330840   35.473381\n",
       "4   TSLA 2024-10-23         0.597078          0.594118    0.495740"
      ]
     },
     "metadata": {},
     "output_type": "display_data"
    }
   ],
   "source": [
    "def iv_crush_summary(merged_data, earnings_dates):\n",
    "    results = []\n",
    "    for ticker, df in merged_data.items():\n",
    "        event_date = pd.to_datetime(earnings_dates[ticker][0])\n",
    "        # IV on last trading day before earnings\n",
    "        pre_mask = df['date'] < event_date\n",
    "        iv_pre = df.loc[pre_mask, 'impliedVolatility'].iloc[-1] if pre_mask.any() else None\n",
    "        # IV on first trading day after earnings\n",
    "        post_mask = df['date'] > event_date\n",
    "        iv_post = df.loc[post_mask, 'impliedVolatility'].iloc[0] if post_mask.any() else None\n",
    "        # Calculate % crush\n",
    "        if iv_pre and iv_post:\n",
    "            crush_pct = (iv_pre - iv_post) / iv_pre * 100\n",
    "        else:\n",
    "            crush_pct = None\n",
    "        results.append({\n",
    "            'Ticker': ticker,\n",
    "            'Event_Date': event_date,\n",
    "            'Pre_Earnings_IV': iv_pre,\n",
    "            'Post_Earnings_IV': iv_post,\n",
    "            'IV_Crush_%': crush_pct\n",
    "        })\n",
    "    return pd.DataFrame(results)\n",
    "\n",
    "iv_crush_df = iv_crush_summary(merged_data, earnings_dates)\n",
    "display(iv_crush_df)\n",
    "\n"
   ]
  },
  {
   "cell_type": "markdown",
   "id": "96bf27b1",
   "metadata": {},
   "source": [
    "### 3.1. Key Takeaways\n",
    "\n",
    "- Implied volatility consistently spikes before earnings due to increased uncertainty.\n",
    "- After earnings, the \"IV crush\" offers potential trading opportunities, especially for short volatility strategies.\n",
    "- The gap between IV and realized volatility can indicate overpriced option premiums pre-event.\n",
    "\n",
    "\n",
    "### 3.2. Option Trading Strategies Around Earnings IV Dynamics\n",
    "\n",
    "### 3.2.1 Long Volatility Strategies (Buy Straddles and Calendar Spreads)\n",
    "\n",
    "* **Long Straddle (Buy Call + Put at Same Strike)**\n",
    "\n",
    "    * **Objective**: Profit from a large move in the underlying stock or a spike in IV before earnings.\n",
    "\n",
    "    * **How it Works**: Buy at-the-money call and put options before earnings to capture the expected IV increase and potential price jump. \n",
    "\n",
    "    * **Risks**: High premium cost; if the stock remains quiet or IV drops suddenly, losses can occur.\n",
    "\n",
    "    * **Ideal** Scenario: Clear IV run-up visible in your analysis signals a favorable entry point.\n",
    "\n",
    "* **Long Calendar Spread (Buy Longer-Term, Sell Shorter-Term Option)**\n",
    "\n",
    "    * **Objective:** Benefit from IV increasing before earnings in the near-term options while hedging with longer-term options.\n",
    "\n",
    "    * **How it Works:** Buy longer-dated options and sell shorter-dated options at the same strike; gains from heightened near-term IV and potential volatility decay afterward.\n",
    "\n",
    "    * **Benefits:** More cost efficient than long straddles; can profit from IV term structure shapes.\n",
    "\n",
    "    * **Ideal Scenario:** Rising front-month IV compared to back-month IV, as seen in IV term slope analysis.\n",
    "\n",
    "### 3.2.2. Short Volatility Strategies (Sell Straddles and Strangles)\n",
    "* **Short Straddle/Strangle**\n",
    "\n",
    "    * **Objective:** Collect premium income from elevated IV before earnings, expecting a consolidating stock price and IV crush after event.\n",
    "\n",
    "    * **How it Works:** Sell at-the-money call and put options; profits from IV crush and time decay post earnings.\n",
    "\n",
    "    * **Risks:** Large risk if the stock moves sharply; requires precise risk management.\n",
    "\n",
    "    * **Ideal Scenario:** Elevated IV with expectation of low realized volatility or range-bound event.\n",
    "\n",
    "### 3.2.3. Key Considerations from this Analysis\n",
    "* **IV Spike Detection:** Use visualization and run-up metrics to time entries for long volatility plays.\n",
    "\n",
    "* **IV Crush Quantification:** Helps evaluate potential premium loss for short volatility plays.\n",
    "\n",
    "* **Volatility Term Structure:** Analyzing slopes aids strategy selection between calendar spreads vs. straight straddles.\n",
    "\n",
    "* **Realized vs Implied Volatility:** Understanding this difference improves risk assessment for all strategies.\n",
    "\n",
    "\n",
    "\n",
    "\n"
   ]
  },
  {
   "cell_type": "markdown",
   "id": "01b899d3",
   "metadata": {},
   "source": [
    "\n",
    "## 4. Methodology and Mathematical Background\n",
    "### 4.1. Yang–Zhang Volatility Estimator\n",
    "\n",
    "The Yang-Zhang volatility estimator provides a sophisticated realized volatility measure that accounts for overnight price jumps and drift, improving upon simpler close-to-close methods. In this study, it offers a rigorous benchmark for comparing market-implied expectations versus actual price fluctuations.\n",
    "\n",
    "The following section introduces and explains the **realized volatility** formula used to compare against implied volatility (IV).\n",
    "\n",
    "$$\n",
    "\\sigma_{YZ} \\;=\\; \\sqrt{\\;\n",
    "\\frac{1}{n - 1}\\;\n",
    "\\left(\n",
    "\\sum_{i=1}^{n} r_{\\text{open},i}^2\n",
    "\\;+\\;\n",
    "k \\sum_{i=1}^{n} r_{\\text{close},i}^2\n",
    "\\;+\\;\n",
    "(1-k)\\sum_{i=1}^{n} RS_i\n",
    "\\right)\n",
    "\\times 252\n",
    "\\;}\n",
    "$$\n",
    "\n",
    "where:\n",
    "\n",
    "$$\n",
    "k \\;=\\; \\frac{0.34}{\\,1.34 + \\frac{n+1}{n-1}\\,}\n",
    "$$\n",
    "\n",
    "and\n",
    "\n",
    "$$\n",
    "RS_i \\;=\\;\n",
    "\\ln\\!\\left(\\frac{H_i}{O_i}\\right)\\!\n",
    "\\left[\\ln\\!\\left(\\frac{H_i}{O_i}\\right) - \\ln\\!\\left(\\frac{C_i}{O_i}\\right)\\right]\n",
    "\\;+\\;\n",
    "\\ln\\!\\left(\\frac{L_i}{O_i}\\right)\\!\n",
    "\\left[\\ln\\!\\left(\\frac{L_i}{O_i}\\right) - \\ln\\!\\left(\\frac{C_i}{O_i}\\right)\\right]\n",
    "$$\n",
    "\n",
    "where:\n",
    "- \\(H_i, L_i, O_i, C_i\\) are the daily **high**, **low**, **open**, and **close** prices, respectively.  \n",
    "- \\(n\\) is the number of observations.  \n",
    "- The factor 252 annualizes volatility to trading days.\n",
    "\n",
    "---\n",
    "\n",
    "### 4.2. Implied Volatility Term Structure\n",
    "\n",
    "For each expiration date \\(t\\), we estimate the **ATM implied volatility** and interpolate it using a spline:\n",
    "\n",
    "$$\n",
    "IV_{\\text{term}}(dte) = f(dte)\n",
    "$$\n",
    "\n",
    "We compute the slope between the nearest expiry and 45 days:\n",
    "\n",
    "$$\n",
    "\\text{Slope}_{0-45} \\;=\\; \\frac{IV_{\\text{term}}(45) - IV_{\\text{term}}(dte_{\\min})}{45 - dte_{\\min}}\n",
    "$$\n",
    "\n",
    "A **negative slope** implies **front-month options** are more expensive — a pattern often observed **prior to earnings**.\n",
    "\n",
    "---\n",
    "\n",
    "### 4.3. IV/RV Ratio\n",
    "\n",
    "Define the implied-to-realized ratio:\n",
    "\n",
    "$$\n",
    "\\text{Ratio} \\;=\\; \\frac{IV_{45}}{RV_{45}}\n",
    "$$\n",
    "\n",
    "If :\n",
    "$$ \n",
    "\\text{Ratio} > 1.25\\ \n",
    "$$ \n",
    "Then the market is implying volatility **significantly higher** than recent realized volatility — indicating elevated uncertainty.\n",
    "\n",
    "## 5. From Volatility Estimation to Practical Trading Signals\n",
    "\n",
    "Our initial volatility modeling utilizes the Yang-Zhang volatility estimator to provide a robust measurement of realized volatility, accounting for overnight price gaps and intraday noise. This methodology lays the foundation for understanding how the market’s realized volatility compares with the forward-looking implied volatility extracted from option prices.\n",
    "\n",
    "Through our visualizations and quantitative analysis, we observe distinct patterns of IV spikes leading up to earnings and IV crushes immediately following those events. These implied volatility dynamics reflect the market's anticipation and resolution of earnings uncertainty.\n",
    "\n",
    "Building on this theoretical base, the provided Python code operationalizes trading decision-making by combining key signals:\n",
    "\n",
    "* A rate of increase in implied volatility relative to the realized volatility benchmark (IV45/RV45 ratio),\n",
    "\n",
    "* Term structure slope analysis (IV across different expiration dates)\n",
    "\n",
    "* Underlying stock liquidity (average volume).\n",
    "\n",
    "Together, these indicators drive a refined recommendation system that suggests when to enter long volatility plays such as straddles or calendar spreads in anticipation of earnings-driven IV spikes.\n"
   ]
  },
  {
   "cell_type": "markdown",
   "id": "c97e2b47",
   "metadata": {},
   "source": []
  }
 ],
 "metadata": {
  "kernelspec": {
   "display_name": "Python 3",
   "language": "python",
   "name": "python3"
  },
  "language_info": {
   "codemirror_mode": {
    "name": "ipython",
    "version": 3
   },
   "file_extension": ".py",
   "mimetype": "text/x-python",
   "name": "python",
   "nbconvert_exporter": "python",
   "pygments_lexer": "ipython3",
   "version": "3.11.6"
  }
 },
 "nbformat": 4,
 "nbformat_minor": 5
}
